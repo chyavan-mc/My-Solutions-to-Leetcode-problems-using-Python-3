{
 "cells": [
  {
   "cell_type": "markdown",
   "metadata": {},
   "source": [
    "## 1. Power of 2\n",
    "\n",
    "Given a positive integer `n` write a function that returns `True` if the number is a power of 2 and `False` otherwise."
   ]
  },
  {
   "cell_type": "markdown",
   "metadata": {},
   "source": [
    "#### Easy\n",
    "* Ask for student's approach - General loop based approach is `Log(n)` complexity"
   ]
  },
  {
   "cell_type": "code",
   "execution_count": 14,
   "metadata": {},
   "outputs": [],
   "source": [
    "# General approach\n",
    "\n",
    "def power_of_2(n):\n",
    "    remainder = 0\n",
    "    while n != 1 and remainder != 1:\n",
    "        remainder = n%2\n",
    "        n = n//2\n",
    "\n",
    "    return remainder == 0"
   ]
  },
  {
   "cell_type": "code",
   "execution_count": 15,
   "metadata": {},
   "outputs": [
    {
     "name": "stdout",
     "output_type": "stream",
     "text": [
      "For n=1, is it a power of 2?: True\n",
      "For n=2, is it a power of 2?: True\n",
      "For n=3, is it a power of 2?: False\n",
      "For n=4, is it a power of 2?: True\n",
      "For n=5, is it a power of 2?: False\n",
      "For n=6, is it a power of 2?: False\n",
      "For n=7, is it a power of 2?: False\n",
      "For n=8, is it a power of 2?: True\n",
      "For n=9, is it a power of 2?: False\n",
      "For n=10, is it a power of 2?: False\n"
     ]
    }
   ],
   "source": [
    "for n in range(1,11):\n",
    "    print(f\"For n={n}, is it a power of 2?: {power_of_2(n)}\")"
   ]
  },
  {
   "cell_type": "code",
   "execution_count": 29,
   "metadata": {},
   "outputs": [
    {
     "name": "stdout",
     "output_type": "stream",
     "text": [
      "--- 10.27575159072876 seconds ---\n"
     ]
    }
   ],
   "source": [
    "import time\n",
    "start_time = time.time()\n",
    "\n",
    "\n",
    "# Checking time for a large number of computations\n",
    "n = 2**20\n",
    "for i in range(10**7):\n",
    "    power_of_2(n)\n",
    "\n",
    "\n",
    "print(\"--- %s seconds ---\" % (time.time() - start_time))"
   ]
  },
  {
   "cell_type": "markdown",
   "metadata": {},
   "source": [
    "#### Medium\n",
    "\n",
    "* If student is able to perform general approach, ask for an O(1) approach\n",
    "    * Understanding of using binary representation\n",
    "    * Need not codify the thoughts as long as the student gets the approach of looking for the binary representation of powers of 2"
   ]
  },
  {
   "cell_type": "code",
   "execution_count": 25,
   "metadata": {},
   "outputs": [],
   "source": [
    "# O(1) approach\n",
    "\n",
    "def power_of_2_optimized(n):\n",
    "    n = bin(n)  # Convert to binary\n",
    "    n = n[2:]   # Remove first 2 letters\n",
    "\n",
    "    return n.count('1') == 1"
   ]
  },
  {
   "cell_type": "code",
   "execution_count": 27,
   "metadata": {},
   "outputs": [
    {
     "name": "stdout",
     "output_type": "stream",
     "text": [
      "For n=1, is it a power of 2?: True\n",
      "For n=2, is it a power of 2?: True\n",
      "For n=3, is it a power of 2?: False\n",
      "For n=4, is it a power of 2?: True\n",
      "For n=5, is it a power of 2?: False\n",
      "For n=6, is it a power of 2?: False\n",
      "For n=7, is it a power of 2?: False\n",
      "For n=8, is it a power of 2?: True\n",
      "For n=9, is it a power of 2?: False\n",
      "For n=10, is it a power of 2?: False\n"
     ]
    }
   ],
   "source": [
    "for n in range(1,11):\n",
    "    print(f\"For n={n}, is it a power of 2?: {power_of_2_optimized(n)}\")"
   ]
  },
  {
   "cell_type": "code",
   "execution_count": 30,
   "metadata": {},
   "outputs": [
    {
     "name": "stdout",
     "output_type": "stream",
     "text": [
      "--- 2.6305127143859863 seconds ---\n"
     ]
    }
   ],
   "source": [
    "import time\n",
    "start_time = time.time()\n",
    "\n",
    "\n",
    "# Checking time for a large number of computations\n",
    "n = 2**20\n",
    "for i in range(10**7):\n",
    "    power_of_2_optimized(n)\n",
    "\n",
    "\n",
    "print(\"--- %s seconds ---\" % (time.time() - start_time))"
   ]
  },
  {
   "cell_type": "markdown",
   "metadata": {},
   "source": [
    "## 2. Regex understanding"
   ]
  },
  {
   "cell_type": "markdown",
   "metadata": {},
   "source": [
    "#### Easy\n",
    "* You have a list of phone numbers that contain only numbers or the `+` character. No spaces or hyphens are present. Can you write a regex to match only Indian phone numbers that are valid? (Starting with +91)\n",
    "\n",
    "Answer\n",
    "* Should be able to write the following or similar regex - `\\+91\\d{10}`"
   ]
  },
  {
   "cell_type": "markdown",
   "metadata": {},
   "source": [
    "#### Hard\n",
    "\n",
    "* Ask what this matches - `^([A-Z]{1}[a-z]*)\\s+([A-Z]{1}[a-z]*)$`\n",
    "\n",
    "Answer\n",
    "* This is a regex that matches First name and last name in the following format\n",
    "    * Single string with first name and last name seperated by 1 or multiple spaces\n",
    "    * First name and last name should be alphabetic (no non alphabetic characters allowed)\n",
    "    * First name should have it's first letter uppercase, and all following letters should be lowercase. Similar thing for the last name\n",
    "    * `^` and `$` matches the whole string from start to finish\n",
    "    * `()` the paranthesis captures the first and last name as two groups (strings) that can be used later\n",
    "\n",
    "\n",
    "Example\n",
    "* Chethan N - Match\n",
    "* wasimakram Sutar - Not a Match (lowercase in first letter)\n",
    "* Chyavan Mysore Chandrashekar - Not a Match (middle name and extra space is invalid)"
   ]
  },
  {
   "cell_type": "markdown",
   "metadata": {},
   "source": [
    "You can test these regexes and the student's regexes here - https://regex101.com/"
   ]
  },
  {
   "cell_type": "markdown",
   "metadata": {},
   "source": [
    "## 3. Recursion (and optimization)"
   ]
  },
  {
   "cell_type": "markdown",
   "metadata": {},
   "source": [
    "#### Easy\n",
    "\n",
    "N-th Fibonnaci number. Given `n`, write a function to "
   ]
  }
 ],
 "metadata": {
  "kernelspec": {
   "display_name": "Python 3",
   "language": "python",
   "name": "python3"
  },
  "language_info": {
   "codemirror_mode": {
    "name": "ipython",
    "version": 3
   },
   "file_extension": ".py",
   "mimetype": "text/x-python",
   "name": "python",
   "nbconvert_exporter": "python",
   "pygments_lexer": "ipython3",
   "version": "3.10.5"
  },
  "orig_nbformat": 4
 },
 "nbformat": 4,
 "nbformat_minor": 2
}
