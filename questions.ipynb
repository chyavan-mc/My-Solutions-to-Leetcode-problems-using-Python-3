{
 "cells": [
  {
   "cell_type": "markdown",
   "metadata": {},
   "source": [
    "## 1. Power of 2\n",
    "\n",
    "Given a positive integer `n` write a function that returns `True` if the number is a power of 2 and `False` otherwise."
   ]
  },
  {
   "cell_type": "markdown",
   "metadata": {},
   "source": [
    "#### Easy\n",
    "* Ask for student's approach - General loop based approach is `Log(n)` complexity"
   ]
  },
  {
   "cell_type": "code",
   "execution_count": 14,
   "metadata": {},
   "outputs": [],
   "source": [
    "# General approach\n",
    "\n",
    "def power_of_2(n):\n",
    "    remainder = 0\n",
    "    while n != 1 and remainder != 1:\n",
    "        remainder = n%2\n",
    "        n = n//2\n",
    "\n",
    "    return remainder == 0"
   ]
  },
  {
   "cell_type": "code",
   "execution_count": 15,
   "metadata": {},
   "outputs": [
    {
     "name": "stdout",
     "output_type": "stream",
     "text": [
      "For n=1, is it a power of 2?: True\n",
      "For n=2, is it a power of 2?: True\n",
      "For n=3, is it a power of 2?: False\n",
      "For n=4, is it a power of 2?: True\n",
      "For n=5, is it a power of 2?: False\n",
      "For n=6, is it a power of 2?: False\n",
      "For n=7, is it a power of 2?: False\n",
      "For n=8, is it a power of 2?: True\n",
      "For n=9, is it a power of 2?: False\n",
      "For n=10, is it a power of 2?: False\n"
     ]
    }
   ],
   "source": [
    "for n in range(1,11):\n",
    "    print(f\"For n={n}, is it a power of 2?: {power_of_2(n)}\")"
   ]
  },
  {
   "cell_type": "code",
   "execution_count": 29,
   "metadata": {},
   "outputs": [
    {
     "name": "stdout",
     "output_type": "stream",
     "text": [
      "--- 10.27575159072876 seconds ---\n"
     ]
    }
   ],
   "source": [
    "import time\n",
    "start_time = time.time()\n",
    "\n",
    "\n",
    "# Checking time for a large number of computations\n",
    "n = 2**20\n",
    "for i in range(10**7):\n",
    "    power_of_2(n)\n",
    "\n",
    "\n",
    "print(\"--- %s seconds ---\" % (time.time() - start_time))"
   ]
  },
  {
   "cell_type": "markdown",
   "metadata": {},
   "source": [
    "#### Medium\n",
    "\n",
    "* If student is able to perform general approach, ask for an O(1) approach\n",
    "    * Understanding of using binary representation\n",
    "    * Need not codify the thoughts as long as the student gets the approach of looking for the binary representation of powers of 2"
   ]
  },
  {
   "cell_type": "code",
   "execution_count": 25,
   "metadata": {},
   "outputs": [],
   "source": [
    "# O(1) approach\n",
    "\n",
    "def power_of_2_optimized(n):\n",
    "    n = bin(n)  # Convert to binary\n",
    "    n = n[2:]   # Remove first 2 letters\n",
    "\n",
    "    return n.count('1') == 1"
   ]
  },
  {
   "cell_type": "code",
   "execution_count": 27,
   "metadata": {},
   "outputs": [
    {
     "name": "stdout",
     "output_type": "stream",
     "text": [
      "For n=1, is it a power of 2?: True\n",
      "For n=2, is it a power of 2?: True\n",
      "For n=3, is it a power of 2?: False\n",
      "For n=4, is it a power of 2?: True\n",
      "For n=5, is it a power of 2?: False\n",
      "For n=6, is it a power of 2?: False\n",
      "For n=7, is it a power of 2?: False\n",
      "For n=8, is it a power of 2?: True\n",
      "For n=9, is it a power of 2?: False\n",
      "For n=10, is it a power of 2?: False\n"
     ]
    }
   ],
   "source": [
    "for n in range(1,11):\n",
    "    print(f\"For n={n}, is it a power of 2?: {power_of_2_optimized(n)}\")"
   ]
  },
  {
   "cell_type": "code",
   "execution_count": 30,
   "metadata": {},
   "outputs": [
    {
     "name": "stdout",
     "output_type": "stream",
     "text": [
      "--- 2.6305127143859863 seconds ---\n"
     ]
    }
   ],
   "source": [
    "import time\n",
    "start_time = time.time()\n",
    "\n",
    "\n",
    "# Checking time for a large number of computations\n",
    "n = 2**20\n",
    "for i in range(10**7):\n",
    "    power_of_2_optimized(n)\n",
    "\n",
    "\n",
    "print(\"--- %s seconds ---\" % (time.time() - start_time))"
   ]
  },
  {
   "cell_type": "markdown",
   "metadata": {},
   "source": [
    "## 2. Regex understanding"
   ]
  },
  {
   "cell_type": "markdown",
   "metadata": {},
   "source": [
    "#### Easy\n",
    "* You have a list of phone numbers that contain only numbers or the `+` character. No spaces or hyphens are present. Can you write a regex to match only Indian phone numbers that are valid? (Starting with +91)\n",
    "\n",
    "Answer\n",
    "* Should be able to write the following or similar regex - `\\+91\\d{10}`"
   ]
  },
  {
   "cell_type": "markdown",
   "metadata": {},
   "source": [
    "#### Hard\n",
    "\n",
    "* Ask what this matches - `^([A-Z]{1}[a-z]*)\\s+([A-Z]{1}[a-z]*)$`\n",
    "\n",
    "Answer\n",
    "* This is a regex that matches First name and last name in the following format\n",
    "    * Single string with first name and last name seperated by 1 or multiple spaces\n",
    "    * First name and last name should be alphabetic (no non alphabetic characters allowed)\n",
    "    * First name should have it's first letter uppercase, and all following letters should be lowercase. Similar thing for the last name\n",
    "    * `^` and `$` matches the whole string from start to finish\n",
    "    * `()` the paranthesis captures the first and last name as two groups (strings) that can be used later\n",
    "\n",
    "\n",
    "Example\n",
    "* Chethan N - Match\n",
    "* wasimakram Sutar - Not a Match (lowercase in first letter)\n",
    "* Chyavan Mysore Chandrashekar - Not a Match (middle name and extra space is invalid)"
   ]
  },
  {
   "cell_type": "markdown",
   "metadata": {},
   "source": [
    "You can test these regexes and the student's regexes here - https://regex101.com/"
   ]
  },
  {
   "cell_type": "markdown",
   "metadata": {},
   "source": [
    "## 3. Recursion (and optimization)"
   ]
  },
  {
   "cell_type": "markdown",
   "metadata": {},
   "source": [
    "#### Easy\n",
    "\n",
    "N-th Fibonnaci number. Given `n`, write a function that returns the n-th number in the fibonacci series\n",
    "$$0, 1, 1, 2, 3, 5, 8, 13, 21, 34 ...$$"
   ]
  },
  {
   "cell_type": "code",
   "execution_count": 35,
   "metadata": {},
   "outputs": [],
   "source": [
    "# Recursive approach\n",
    "def fibonacci_rec(n):\n",
    "    if n == 1 or n == 2:\n",
    "        return n-1\n",
    "    return fibonacci_rec(n-1) + fibonacci_rec(n-2)"
   ]
  },
  {
   "cell_type": "code",
   "execution_count": 55,
   "metadata": {},
   "outputs": [
    {
     "name": "stdout",
     "output_type": "stream",
     "text": [
      "63245986\n",
      "--- 21.10950517654419 seconds ---\n"
     ]
    }
   ],
   "source": [
    "import time\n",
    "start_time = time.time()\n",
    "\n",
    "\n",
    "# Checking time for a large n\n",
    "n = 40\n",
    "print(fibonacci_rec(n))\n",
    "\n",
    "\n",
    "print(\"--- %s seconds ---\" % (time.time() - start_time))"
   ]
  },
  {
   "cell_type": "markdown",
   "metadata": {},
   "source": [
    "#### Medium\n",
    "\n",
    "Can the same problem be solved without recursion?"
   ]
  },
  {
   "cell_type": "code",
   "execution_count": 52,
   "metadata": {},
   "outputs": [],
   "source": [
    "# Loop based approach, no recursion\n",
    "def fibonacci_opti(n):\n",
    "    if n == 1:\n",
    "        return n-1\n",
    "    \n",
    "    a = 0\n",
    "    b = 1\n",
    "    while n-1:\n",
    "        a, b = b, a+b\n",
    "        n -= 1\n",
    "    \n",
    "    return a"
   ]
  },
  {
   "cell_type": "code",
   "execution_count": 56,
   "metadata": {},
   "outputs": [
    {
     "name": "stdout",
     "output_type": "stream",
     "text": [
      "63245986\n",
      "--- 0.0 seconds ---\n"
     ]
    }
   ],
   "source": [
    "import time\n",
    "start_time = time.time()\n",
    "\n",
    "\n",
    "# Checking time for a large n\n",
    "n = 40\n",
    "print(fibonacci_opti(n))\n",
    "\n",
    "\n",
    "print(\"--- %s seconds ---\" % (time.time() - start_time))"
   ]
  },
  {
   "cell_type": "markdown",
   "metadata": {},
   "source": [
    "> Alternate question - Computing n factorial (`n!`) given a non-negative integer"
   ]
  },
  {
   "cell_type": "code",
   "execution_count": 69,
   "metadata": {},
   "outputs": [],
   "source": [
    "# Using recursion\n",
    "def n_factorial(n):\n",
    "    if n == 0 or n == 1:\n",
    "        return 1\n",
    "    return n * n_factorial(n-1)"
   ]
  },
  {
   "cell_type": "code",
   "execution_count": 70,
   "metadata": {},
   "outputs": [
    {
     "name": "stdout",
     "output_type": "stream",
     "text": [
      "2432902008176640000\n",
      "--- 20.995523691177368 seconds ---\n"
     ]
    }
   ],
   "source": [
    "import time\n",
    "start_time = time.time()\n",
    "\n",
    "\n",
    "# Checking time for a large n for large number of computations\n",
    "n = 20\n",
    "for i in range(10**7):\n",
    "    n_factorial(n)\n",
    "\n",
    "print(n_factorial(n))\n",
    "\n",
    "\n",
    "print(\"--- %s seconds ---\" % (time.time() - start_time))"
   ]
  },
  {
   "cell_type": "code",
   "execution_count": 71,
   "metadata": {},
   "outputs": [],
   "source": [
    "# Loop based approach, no recursion\n",
    "def n_factorial_opti(n):\n",
    "    if n == 0 or n == 1:\n",
    "        return 1\n",
    "    prod = 1\n",
    "    for i in range(1, n+1):\n",
    "        prod *= i\n",
    "\n",
    "    return prod"
   ]
  },
  {
   "cell_type": "code",
   "execution_count": 73,
   "metadata": {},
   "outputs": [
    {
     "name": "stdout",
     "output_type": "stream",
     "text": [
      "2432902008176640000\n",
      "--- 8.830394744873047 seconds ---\n"
     ]
    }
   ],
   "source": [
    "import time\n",
    "start_time = time.time()\n",
    "\n",
    "\n",
    "# Checking time for a large n for large number of computations\n",
    "n = 20\n",
    "for i in range(10**7):\n",
    "    n_factorial_opti(n)\n",
    "\n",
    "print(n_factorial_opti(n))\n",
    "\n",
    "\n",
    "print(\"--- %s seconds ---\" % (time.time() - start_time))"
   ]
  },
  {
   "cell_type": "markdown",
   "metadata": {},
   "source": [
    "## 4. SQL"
   ]
  },
  {
   "cell_type": "markdown",
   "metadata": {},
   "source": [
    "#### Easy\n",
    "\n",
    "Given a directed graph, how do you store it in an SQL database?\n",
    "* Answer: All the nodes can be stored in a table with a primary key, and the node's properties as other fields. Another table can be used to have the \"from\" node and the \"to\" node columns where both columns are foreign keys to the initial table."
   ]
  },
  {
   "cell_type": "markdown",
   "metadata": {},
   "source": [
    "##### Example\n",
    "\n",
    "![Graph](https://qph.cf2.quoracdn.net/main-qimg-2ea8bf9286505bf2ccd63893e05eb5f9)\n",
    "\n",
    "Answer:\n",
    "\n",
    "| PK | NODE_VALUE |\n",
    "| --- | --- |\n",
    "| 1 | 1 |\n",
    "| 2 | 7 |\n",
    "| 3 | 12 |\n",
    "| 4 | 19 |\n",
    "| 5 | 21 |\n",
    "| 6 | 14 |\n",
    "| 7 | 31 |\n",
    "| 8 | 67 |\n",
    "\n",
    "<br>\n",
    "\n",
    "| FROM | TO | DIST |\n",
    "| --- | --- | --- |\n",
    "| 1 | 2 | 4 |\n",
    "| 1 | 5 | 12 |\n",
    "| 1 | 3 | 3 |\n",
    "| 3 | 4 | 16 |\n",
    "| 4 | 1 | 3 |\n",
    "| 4 | 5 | 2 |\n",
    "| 2 | 5 | 13 |\n",
    "| 5 | 7 | 14 |\n",
    "| 5 | 6 | 23 |\n",
    "| 6 | 6 | 0 |"
   ]
  },
  {
   "cell_type": "markdown",
   "metadata": {},
   "source": [
    "Some more graphs\n",
    "\n",
    "![Graph](https://miro.medium.com/v2/resize:fit:1326/1*56WWHa3y_XdilV6B4Toftw.png)\n",
    "\n",
    "![Graph](https://allaboutalgorithms.files.wordpress.com/2011/11/linear_dag.jpg?w=584)\n",
    "\n",
    "![Graph](https://allaboutalgorithms.files.wordpress.com/2011/11/dag.jpg)\n",
    "\n",
    "![Graph](https://media.geeksforgeeks.org/wp-content/cdn-uploads/20200717221148/graphImage.png)\n",
    "\n",
    "![Graph](https://ucarecdn.com/d624d487-da51-42ad-a520-cc3fb8f253bd/)\n",
    "\n",
    "![Graph](https://ds055uzetaobb.cloudfront.net/brioche/uploads/ex2V1uxxGs-cde30e75cd3cb1ca863b625b694f4bea7afa8cb0.png?width=1200)"
   ]
  },
  {
   "cell_type": "markdown",
   "metadata": {},
   "source": [
    "#### Easy\n",
    "\n",
    "```\n",
    "SELECT  *\n",
    "FROM    customers\n",
    "WHERE   customerId = 2351\n",
    "```\n",
    "\n",
    "* What does this statement do?\n",
    "    * Select all fields of the customer table for the observation with `customerId` 2351\n",
    "* How is this query processed? Does the system scan all the entries from start to finish until it finds a match for the customerId?\n",
    "    * If `customerId` is not an indexed column, then the system goes through each observation and tried to match the value (**Linear Search**)\n",
    "    * If the column is indexed, then the `customerId` is ordered and arranged so that instead of linearly going through each item, a **Binary Search** (or tree based search in general for non binary tree arrangements) is performed\n",
    "    * Hint: (If the student doesn't have knowledge of indexing) - How do you search a name in the phone book? Do you go through each name from page-1 until you find the desired one? What type of search algorithm do you use? (must arrive at the binary search answer)"
   ]
  },
  {
   "cell_type": "markdown",
   "metadata": {},
   "source": [
    "#### Medium\n",
    "\n",
    "We have 2 tables from a company with information regarding the employees and their salary payments. Write a query to generate a list of employees and the amounts required to be paid to the employees at the end of the month.\n",
    "\n",
    "Employee Table\n",
    "\n",
    "| EmployeeId | FirstName | LastName | AmountDue | Comments |\n",
    "| --- | --- | --- | --- | --- |\n",
    "| 1 | Alice | Devin | 2000 | Incentive Payment Remaining |\n",
    "| 2 | Chad | Brown | 0 | NULL |\n",
    "| 3 | Bob | Lance | 0 | NULL |\n",
    "| 4 | Daniel | Roberts | 125 | Reimbursement Payment Remaining |\n",
    "| 5 | Emily | Rogers | -5000 | Employee to pay the company for misplaced technology |\n",
    "\n",
    "\n",
    "Salary Table\n",
    "\n",
    "| EmployeeId | SalaryAmount | SalaryDate | Paid |\n",
    "| --- | --- | --- | --- |\n",
    "| 1 | 5000 | 2023-06-01 | Y |\n",
    "| 1 | 5000 | 2023-07-01 | N |\n",
    "| 3 | 5500 | 2023-06-01 | N |\n",
    "| 2 | 4500 | 2023-06-01 | N |\n",
    "| 5 | 2000 | 2023-06-01 | N |\n",
    "| 4 | 7500 | 2023-06-01 | Y |\n",
    "| 2 | 4700 | 2023-07-01 | N |\n",
    "\n",
    "Results\n",
    "\n",
    "| EmployeeFullName | AmountPayable |\n",
    "| --- | --- |\n",
    "| Alice Devin | 7000 |\n",
    "| Bob Lance | 5500 |\n",
    "| Chad Brown | 9200 |\n",
    "| Daniel Roberts | 125 |\n",
    "\n",
    "* First column of the returned table should contain the full name of the employee with the first and last name separated by a space\n",
    "* Second column of the returned table should contain the amount that the company needs to pay the employee. If the amount is negative or zero, then do not include those entries in the results\n",
    "    * Employee-1 has to be paid 2000 in incentives, and 5000 in salary (Only the July salary since the June salary has already been paid). So the entry reflects the full name of the employee and the amount to be paid as 7000\n",
    "    * Employee-5 is not included in the results as the net amount is negative (employee has to pay the company)\n",
    "* Order the results by the first and last name\n",
    "\n",
    "```\n",
    "WITH cte AS\n",
    "(\n",
    "    SELECT  EmployeeId,\n",
    "            SUM(SalaryAmount) AS SalaryAmount\n",
    "    FROM    Salary\n",
    "    WHERE   Paid = 'N'\n",
    "    GROUP BY EmployeeId\n",
    ")\n",
    "SELECT  CONCAT(e.FirstName, \" \", e.LastName) AS EmployeeFullName\n",
    "        c.SalaryAmount + e.AmountDue AS AmountPayable\n",
    "FROM    Employee AS e\n",
    "        INNER JOIN cte AS c\n",
    "            ON e.EmployeeId = c.EmployeeId\n",
    "WHERE   c.SalaryAmount + e.AmountDue > 0\n",
    "ORDER BY e.FirstName, e.LastName\n",
    "```"
   ]
  },
  {
   "cell_type": "markdown",
   "metadata": {},
   "source": [
    "## 5. Debugging"
   ]
  },
  {
   "cell_type": "markdown",
   "metadata": {},
   "source": [
    "Following questions are to test whether a student can spot bugs in the code and follow good coding practices"
   ]
  },
  {
   "cell_type": "code",
   "execution_count": 77,
   "metadata": {},
   "outputs": [
    {
     "data": {
      "text/plain": [
       "30.0"
      ]
     },
     "execution_count": 77,
     "metadata": {},
     "output_type": "execute_result"
    }
   ],
   "source": [
    "# Example-1\n",
    "def calculate_average(numbers):\n",
    "    total_sum = 0\n",
    "    for num in numbers:\n",
    "        total_sum += num\n",
    "    average = total_sum / len(numbers)\n",
    "    return average\n",
    "\n",
    "numbers = [10, 20, 30, 40, 50]\n",
    "calculate_average(numbers)"
   ]
  },
  {
   "cell_type": "markdown",
   "metadata": {},
   "source": [
    "* The student should be able to recognize that passing an empty array raises a division by zero error"
   ]
  }
 ],
 "metadata": {
  "kernelspec": {
   "display_name": "Python 3",
   "language": "python",
   "name": "python3"
  },
  "language_info": {
   "codemirror_mode": {
    "name": "ipython",
    "version": 3
   },
   "file_extension": ".py",
   "mimetype": "text/x-python",
   "name": "python",
   "nbconvert_exporter": "python",
   "pygments_lexer": "ipython3",
   "version": "3.10.5"
  },
  "orig_nbformat": 4
 },
 "nbformat": 4,
 "nbformat_minor": 2
}
